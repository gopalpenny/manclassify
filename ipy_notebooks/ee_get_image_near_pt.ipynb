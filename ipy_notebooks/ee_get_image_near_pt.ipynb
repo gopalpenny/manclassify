{
 "cells": [
  {
   "cell_type": "code",
   "execution_count": 22,
   "id": "3a3211ee-6e3a-4a3d-b5f7-619efa6ac693",
   "metadata": {},
   "outputs": [],
   "source": [
    "import ee\n",
    "import geemap\n",
    "import os\n",
    "from datetime import datetime, timedelta\n",
    "import numpy as np\n",
    "import geopandas as gpd\n",
    "import pandas as pd\n",
    "import math\n",
    "import matplotlib.pyplot as plt\n",
    "import geemap"
   ]
  },
  {
   "cell_type": "code",
   "execution_count": 31,
   "id": "0d56222d-8c41-4072-8a91-8114659eca16",
   "metadata": {
    "tags": []
   },
   "outputs": [],
   "source": [
    "def get_image_near_point(im_collection_id, im_date,  bands_rgb, latitude, longitude, buffer_px, \n",
    "                        return_geopandas = False):\n",
    "    \"\"\"\n",
    "    Get an earth engine image near a point\n",
    "\n",
    "    Parameters\n",
    "    ----------\n",
    "    im_collection_id : str\n",
    "        DESCRIPTION.\n",
    "    im_date : str\n",
    "        DESCRIPTION.\n",
    "    bands_rgb : list\n",
    "        Band names.\n",
    "    latitude : float\n",
    "        Latitude (EPSG 4326).\n",
    "    longitude : float\n",
    "        Longitude (EPSG 4326).\n",
    "    buffer_px : int\n",
    "        Number of pixels to buffer on each side.\n",
    "    return_geopandas : bool, optional\n",
    "        If True, return geopandas.DataFrame, otherwise np.array. The default is False.\n",
    "\n",
    "    Returns\n",
    "    -------\n",
    "    return_val : np.array or geopandas.DataFrame\n",
    "        m x n grid with bands specified by bands_rgb.\n",
    "        \n",
    "    \n",
    "    Examples\n",
    "    --------\n",
    "    im_array = get_image_near_point(im_collection_id = 'COPERNICUS/S2_SR', \n",
    "                                    im_date = '2020-02-03',  \n",
    "                                    bands_rgb = ['B8','B4','B3'], \n",
    "                                    latitude = 11.4086, \n",
    "                                    longitude = 77.7791, \n",
    "                                    buffer_px = 10, \n",
    "                                    return_geopandas = False)\n",
    "    plt = plot_array_image(im_array1)\n",
    "    plt.show()\n",
    "\n",
    "    \"\"\"\n",
    "    \n",
    "    \n",
    "        \n",
    "    start_datetime = datetime.strptime(im_date,'%Y-%m-%d')\n",
    "    end_date = datetime.strftime(start_datetime + timedelta(days = 1), '%Y-%m-%d')\n",
    "    \n",
    "    try:\n",
    "        pt = ee.Geometry.Point([longitude, latitude])\n",
    "    except:\n",
    "        ee.Initialize()\n",
    "        pt = ee.Geometry.Point([longitude, latitude])\n",
    "        \n",
    "    # pt_bbox = pt.buffer(buffer_m, 1).bounds()\n",
    "    ic = ee.ImageCollection(im_collection_id).filterBounds(pt).filterDate(im_date, end_date)\n",
    "    # ic = ic.filter(ee.Filter.lt('CLOUDY_PIXEL_PERCENTAGE', 0.25))\n",
    "    im = ic.first().select(bands_rgb)\n",
    "\n",
    "    if return_geopandas:\n",
    "        im = im.addBands(im.pixelCoordinates(im.projection()))\n",
    "    \n",
    "    # buffer_px = 10\n",
    "    # generate kernel\n",
    "    imdim = (buffer_px * 2) + 1\n",
    "    kernel_list = ee.List.repeat(1, imdim)\n",
    "    kernel_lists = ee.List.repeat(kernel_list, imdim)\n",
    "    kernel = ee.Kernel.fixed(imdim, imdim, kernel_lists, \n",
    "                             x = buffer_px, y = buffer_px)\n",
    "    \n",
    "    \n",
    "    im_eearray = im.neighborhoodToArray(kernel)\n",
    "    \n",
    "    \n",
    "    # sample the region and return array from ee to python\n",
    "    im_dict = im_eearray.reduceRegion(ee.Reducer.first(), geometry = pt, scale = 10).getInfo()\n",
    "    # # old, with bounding box:\n",
    "    # im_dict = im.sampleRectangle(region = pt_bbox, properties = []).getInfo()\n",
    "    # im_props = im_dict['properties']\n",
    "\n",
    "    # len(im_dict['properties'])\n",
    "    im_props = im_dict\n",
    "    im_props_keys = list(im_props.keys())\n",
    "\n",
    "    if return_geopandas:\n",
    "        df = pd.DataFrame()\n",
    "        for i in range(len(im_props)):\n",
    "            colname = im_props_keys[i]\n",
    "            data = np.array(im_props[colname]).flatten()\n",
    "            df[colname] = data\n",
    "\n",
    "        im_projection = im.projection().getInfo()\n",
    "        # convert to geopandas\n",
    "        gdf = gpd.GeoDataFrame(df, \n",
    "                 geometry = gpd.points_from_xy(df.x, df.y),\n",
    "                 crs = im_projection['crs'])\n",
    "        \n",
    "        return_val = gdf\n",
    "\n",
    "\n",
    "    else:\n",
    "        # extract each band separately\n",
    "        Bred = np.expand_dims(np.array(im_props[bands_rgb[0]]), 2)\n",
    "        Bgreen = np.expand_dims(np.array(im_props[bands_rgb[1]]), 2)\n",
    "        Bblue = np.expand_dims(np.array(im_props[bands_rgb[2]]), 2)\n",
    "\n",
    "        im_array_rgb = np.concatenate((Bred, Bgreen, Bblue), axis = 2)\n",
    "        return_val = im_array_rgb\n",
    "    \n",
    "    return return_val\n",
    "\n",
    "\n",
    "\n",
    "# @st.cache\n",
    "def plot_array_image(im_array):\n",
    "    xcenter = math.floor(im_array.shape[0] / 2)\n",
    "    ycenter = math.floor(im_array.shape[1] / 2)\n",
    "    \n",
    "    maxval = 5000\n",
    "    \n",
    "    im_array[im_array > maxval] = maxval\n",
    "    \n",
    "    arrow_spacing = 1\n",
    "    # Scale the data to [0, 255] to show as an RGB image.\n",
    "    rgb_img_test = (255*((im_array - 0)/maxval)).astype('uint8')\n",
    "    plt.figure(figsize = (5,5),dpi = 100)\n",
    "    # plt.axis('off')\n",
    "    plt.imshow(rgb_img_test)\n",
    "    plt.plot(xcenter, ycenter - arrow_spacing, marker = 'v', color = 'white')\n",
    "    plt.plot(xcenter, ycenter + arrow_spacing,marker = '^', color = 'white')\n",
    "    plt.plot(xcenter + arrow_spacing, ycenter, marker = '<', color = 'white')\n",
    "    plt.plot(xcenter - arrow_spacing, ycenter,marker = '>', color = 'white')\n",
    "    return plt"
   ]
  },
  {
   "cell_type": "code",
   "execution_count": 9,
   "id": "c65f9432-60af-45d7-9ca6-5e889c8524f1",
   "metadata": {},
   "outputs": [],
   "source": [
    "ee.Initialize()"
   ]
  },
  {
   "cell_type": "code",
   "execution_count": 32,
   "id": "2094cb9e-4149-4685-a0cd-1440a4fc4b3c",
   "metadata": {},
   "outputs": [
    {
     "data": {
      "image/png": "[encoded data removed]",
      "text/plain": [
       "<Figure size 500x500 with 1 Axes>"
      ]
     },
     "metadata": {
      "needs_background": "light"
     },
     "output_type": "display_data"
    }
   ],
   "source": [
    "\n",
    "im_array = get_image_near_point(im_collection_id = 'COPERNICUS/S2_SR', \n",
    "                                im_date = '2020-02-03',  \n",
    "                                bands_rgb = ['B8','B4','B3'], \n",
    "                                latitude = 11.4086, \n",
    "                                longitude = 77.7791, \n",
    "                                buffer_px = 3, \n",
    "                                return_geopandas = False)\n",
    "plt = plot_array_image(im_array)\n",
    "plt.show()"
   ]
  },
  {
   "cell_type": "code",
   "execution_count": 24,
   "id": "7fd0fe04-2c48-4320-9fc0-2416148449c4",
   "metadata": {},
   "outputs": [],
   "source": [
    "lat = 11.4086\n",
    "lon = 77.7791\n",
    "im_date = '2020-02-03'\n",
    "im_date2 = '2020-02-04'\n",
    "pt = ee.Geometry.Point([lon, lat])\n",
    "s2 = ee.ImageCollection('COPERNICUS/S2_SR').filterDate(im_date, im_date2).filterBounds(pt)"
   ]
  },
  {
   "cell_type": "code",
   "execution_count": 27,
   "id": "6cbc23f2-e110-41be-bd12-b38fb3588261",
   "metadata": {},
   "outputs": [
    {
     "data": {
      "application/vnd.jupyter.widget-view+json": {
       "model_id": "41109921963b48ae8031e7d358eed2dc",
       "version_major": 2,
       "version_minor": 0
      },
      "text/plain": [
       "Map(center=[11.4086, 77.7791], controls=(WidgetControl(options=['position', 'transparent_bg'], widget=HBox(chi…"
      ]
     },
     "metadata": {},
     "output_type": "display_data"
    }
   ],
   "source": [
    "Map = geemap.Map()\n",
    "Map.centerObject(pt, 18)\n",
    "Map.addLayer(s2.mosaic(), {'bands' : ['B8','B4','B3'], 'min' : 0, 'max' : 5000}, 's2')\n",
    "Map.addLayer(pt, {}, 'pt')\n",
    "Map.addLayerControl()\n",
    "Map\n"
   ]
  },
  {
   "cell_type": "code",
   "execution_count": 18,
   "id": "5f64f224-60fa-49cd-a4fb-241d5adde50f",
   "metadata": {},
   "outputs": [],
   "source": [
    "\n",
    "px_around_pt = 10\n",
    "imdim = (px_around_pt * 2) + 1\n",
    "kernel_list = ee.List.repeat(1, imdim)\n",
    "kernel_lists = ee.List.repeat(kernel_list, imdim)\n",
    "kernel = ee.Kernel.fixed(imdim, imdim, kernel_lists, \n",
    "                         x = px_around_pt + 1, y = px_around_pt + 1)\n",
    "# kernel.getInfo()\n",
    "s2im = s2.mosaic().select(['B8','B4','B3'])\n",
    "s2ar_ee = s2im.neighborhoodToArray(kernel)\n",
    "s2ar = s2ar_ee.reduceRegion(ee.Reducer.first(), geometry = pt, scale = 10).getInfo()"
   ]
  },
  {
   "cell_type": "code",
   "execution_count": 40,
   "id": "b61e6cf9-1ae5-4c05-822e-200f9720f90f",
   "metadata": {
    "tags": []
   },
   "outputs": [],
   "source": [
    "import numpy as np\n",
    "import matplotlib.pyplot as plt\n",
    "B3 = np.expand_dims(np.array(s2ar['B3']), 2)\n",
    "B4 = np.expand_dims(np.array(s2ar['B4']), 2)\n",
    "B8 = np.expand_dims(np.array(s2ar['B8']), 2)\n",
    "\n",
    "maxval = 3000\n",
    "im_array = np.concatenate((B8, B4, B3), axis = 2)\n",
    "im_array[im_array > maxval] = maxval\n",
    "\n",
    "\n",
    "rgb_img_test = (255*((im_array - 0)/maxval)).astype('uint8')"
   ]
  },
  {
   "cell_type": "code",
   "execution_count": 46,
   "id": "14240d77-b805-42bc-b73a-63bd6a08fdd5",
   "metadata": {},
   "outputs": [
    {
     "data": {
      "text/plain": [
       "[<matplotlib.lines.Line2D at 0x15f6c09d0>]"
      ]
     },
     "execution_count": 46,
     "metadata": {},
     "output_type": "execute_result"
    },
    {
     "data": {
      "image/png": "[encoded data removed]",
      "text/plain": [
       "<Figure size 432x288 with 1 Axes>"
      ]
     },
     "metadata": {
      "needs_background": "light"
     },
     "output_type": "display_data"
    }
   ],
   "source": [
    "plt.imshow(rgb_img_test)\n",
    "plt.plot(10, 10, marker = 'o', color = 'black')"
   ]
  }
 ],
 "metadata": {
  "kernelspec": {
   "display_name": "geemap",
   "language": "python",
   "name": "geemap"
  },
  "language_info": {
   "codemirror_mode": {
    "name": "ipython",
    "version": 3
   },
   "file_extension": ".py",
   "mimetype": "text/x-python",
   "name": "python",
   "nbconvert_exporter": "python",
   "pygments_lexer": "ipython3",
   "version": "3.9.13"
  }
 },
 "nbformat": 4,
 "nbformat_minor": 5
}
