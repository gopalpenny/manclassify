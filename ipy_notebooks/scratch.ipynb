{
 "cells": [
  {
   "cell_type": "code",
   "execution_count": 1,
   "id": "34e80a08-4265-4063-915b-3b39f5d9b858",
   "metadata": {},
   "outputs": [],
   "source": [
    "import plotnine as p9"
   ]
  },
  {
   "cell_type": "code",
   "execution_count": 10,
   "id": "37f81c9d-75af-4119-8131-572dba77b7c8",
   "metadata": {},
   "outputs": [
    {
     "ename": "SyntaxError",
     "evalue": "unexpected EOF while parsing (595123356.py, line 3)",
     "output_type": "error",
     "traceback": [
      "\u001b[0;36m  File \u001b[0;32m\"/var/folders/js/4lzq4_rd12ndjrhf15w_jfrw0000gn/T/ipykernel_63651/595123356.py\"\u001b[0;36m, line \u001b[0;32m3\u001b[0m\n\u001b[0;31m    panel_grid_major = p9.element_line(color = 'red', size = 3))\u001b[0m\n\u001b[0m                                                                ^\u001b[0m\n\u001b[0;31mSyntaxError\u001b[0m\u001b[0;31m:\u001b[0m unexpected EOF while parsing\n"
     ]
    }
   ],
   "source": [
    "(p9.ggplot() + p9.geom_point(p9.aes(x = 1, y = 1)) + \n",
    " p9.theme(axis_ticks = p9.element_line(color = 'red', size = 3),\n",
    "          panel_grid_major = p9.element_line(color = 'red', size = 3))"
   ]
  }
 ],
 "metadata": {
  "kernelspec": {
   "display_name": "geemap",
   "language": "python",
   "name": "geemap"
  },
  "language_info": {
   "codemirror_mode": {
    "name": "ipython",
    "version": 3
   },
   "file_extension": ".py",
   "mimetype": "text/x-python",
   "name": "python",
   "nbconvert_exporter": "python",
   "pygments_lexer": "ipython3",
   "version": "3.9.13"
  }
 },
 "nbformat": 4,
 "nbformat_minor": 5
}
