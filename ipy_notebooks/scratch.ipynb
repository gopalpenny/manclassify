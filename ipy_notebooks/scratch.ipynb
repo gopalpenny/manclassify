{
 "cells": [
  {
   "cell_type": "code",
   "execution_count": 1,
   "id": "34e80a08-4265-4063-915b-3b39f5d9b858",
   "metadata": {},
   "outputs": [],
   "source": [
    "import plotnine as p9\n",
    "import ee"
   ]
  },
  {
   "cell_type": "code",
   "execution_count": 2,
   "id": "904c2997-d38b-4e80-9f50-9503389787ad",
   "metadata": {},
   "outputs": [],
   "source": [
    "ee.Initialize()"
   ]
  },
  {
   "cell_type": "code",
   "execution_count": 10,
   "id": "37f81c9d-75af-4119-8131-572dba77b7c8",
   "metadata": {},
   "outputs": [
    {
     "ename": "SyntaxError",
     "evalue": "unexpected EOF while parsing (595123356.py, line 3)",
     "output_type": "error",
     "traceback": [
      "\u001b[0;36m  File \u001b[0;32m\"/var/folders/js/4lzq4_rd12ndjrhf15w_jfrw0000gn/T/ipykernel_63651/595123356.py\"\u001b[0;36m, line \u001b[0;32m3\u001b[0m\n\u001b[0;31m    panel_grid_major = p9.element_line(color = 'red', size = 3))\u001b[0m\n\u001b[0m                                                                ^\u001b[0m\n\u001b[0;31mSyntaxError\u001b[0m\u001b[0;31m:\u001b[0m unexpected EOF while parsing\n"
     ]
    }
   ],
   "source": [
    "# @st.cache\n",
    "def get_image_near_point(im_collection_id, im_date,  bands_rgb, latitude, longitude, buffer_px, \n",
    "                        return_geopandas = False):\n",
    "    \n",
    "        \n",
    "    start_datetime = datetime.strptime(im_date,'%Y-%m-%d')\n",
    "    end_date = datetime.strftime(start_datetime + timedelta(days = 1), '%Y-%m-%d')\n",
    "    \n",
    "    try:\n",
    "        pt = ee.Geometry.Point([longitude, latitude])\n",
    "    except:\n",
    "        ee.Initialize()\n",
    "        pt = ee.Geometry.Point([longitude, latitude])\n",
    "        \n",
    "    # pt_bbox = pt.buffer(buffer_m, 1).bounds()\n",
    "    ic = ee.ImageCollection(im_collection_id).filterBounds(pt).filterDate(im_date, end_date)\n",
    "    # ic = ic.filter(ee.Filter.lt('CLOUDY_PIXEL_PERCENTAGE', 0.25))\n",
    "    im = ic.first().select(bands_rgb)\n",
    "\n",
    "    if return_geopandas:\n",
    "        im = im.addBands(im.pixelCoordinates(im.projection()))\n",
    "    \n",
    "    # buffer_px = 10\n",
    "    # generate kernel\n",
    "    imdim = (buffer_px * 2) + 1\n",
    "    kernel_list = ee.List.repeat(1, imdim)\n",
    "    kernel_lists = ee.List.repeat(kernel_list, imdim)\n",
    "    kernel = ee.Kernel.fixed(imdim, imdim, kernel_lists, \n",
    "                             x = buffer_px + 1, y = buffer_px + 1)\n",
    "    \n",
    "    \n",
    "    im_eearray = im.neighborhoodToArray(kernel)\n",
    "    \n",
    "    \n",
    "    # sample the region and return array from ee to python\n",
    "    im_dict = im_eearray.reduceRegion(ee.Reducer.first(), geometry = pt, scale = 10).getInfo()\n",
    "    # # old, with bounding box:\n",
    "    # im_dict = im.sampleRectangle(region = pt_bbox, properties = []).getInfo()\n",
    "    # im_props = im_dict['properties']\n",
    "\n",
    "    # len(im_dict['properties'])\n",
    "    im_props = im_dict\n",
    "    im_props_keys = list(im_props.keys())\n",
    "\n",
    "    if return_geopandas:\n",
    "        df = pd.DataFrame()\n",
    "        for i in range(len(im_props)):\n",
    "            colname = im_props_keys[i]\n",
    "            data = np.array(im_props[colname]).flatten()\n",
    "            df[colname] = data\n",
    "\n",
    "        im_projection = im.projection().getInfo()\n",
    "        # convert to geopandas\n",
    "        gdf = gpd.GeoDataFrame(df, \n",
    "                 geometry = gpd.points_from_xy(df.x, df.y),\n",
    "                 crs = im_projection['crs'])\n",
    "        \n",
    "        return_val = gdf\n",
    "\n",
    "\n",
    "    else:\n",
    "        # extract each band separately\n",
    "        Bred = np.expand_dims(np.array(im_props[bands_rgb[0]]), 2)\n",
    "        Bgreen = np.expand_dims(np.array(im_props[bands_rgb[1]]), 2)\n",
    "        Bblue = np.expand_dims(np.array(im_props[bands_rgb[2]]), 2)\n",
    "\n",
    "        im_array_rgb = np.concatenate((Bred, Bgreen, Bblue), axis = 2)\n",
    "        return_val = im_array_rgb\n",
    "    \n",
    "    return return_val\n",
    "\n",
    "\n",
    "\n",
    "# @st.cache\n",
    "def plot_array_image(im_array):\n",
    "    xcenter = math.floor(im_array.shape[0] / 2)\n",
    "    ycenter = math.floor(im_array.shape[1] / 2)\n",
    "    \n",
    "    maxval = 5000\n",
    "    \n",
    "    im_array[im_array > maxval] = maxval\n",
    "    \n",
    "    arrow_spacing = 1\n",
    "    # Scale the data to [0, 255] to show as an RGB image.\n",
    "    rgb_img_test = (255*((im_array - 0)/maxval)).astype('uint8')\n",
    "    plt.figure(figsize = (5,5),dpi = 100)\n",
    "    plt.axis('off')\n",
    "    plt.imshow(rgb_img_test)\n",
    "    plt.plot(xcenter, ycenter - arrow_spacing, marker = 'v', color = 'white')\n",
    "    plt.plot(xcenter, ycenter + arrow_spacing,marker = '^', color = 'white')\n",
    "    plt.plot(xcenter + arrow_spacing, ycenter, marker = '<', color = 'white')\n",
    "    plt.plot(xcenter - arrow_spacing, ycenter,marker = '>', color = 'white')\n",
    "    return plt"
   ]
  }
 ],
 "metadata": {
  "kernelspec": {
   "display_name": "geemap",
   "language": "python",
   "name": "geemap"
  },
  "language_info": {
   "codemirror_mode": {
    "name": "ipython",
    "version": 3
   },
   "file_extension": ".py",
   "mimetype": "text/x-python",
   "name": "python",
   "nbconvert_exporter": "python",
   "pygments_lexer": "ipython3",
   "version": "3.9.13"
  }
 },
 "nbformat": 4,
 "nbformat_minor": 5
}
