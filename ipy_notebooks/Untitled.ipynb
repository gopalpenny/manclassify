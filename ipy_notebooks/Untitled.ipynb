{
 "cells": [
  {
   "cell_type": "code",
   "execution_count": 2,
   "id": "3a3211ee-6e3a-4a3d-b5f7-619efa6ac693",
   "metadata": {},
   "outputs": [],
   "source": [
    "import ee\n",
    "import geemap"
   ]
  },
  {
   "cell_type": "code",
   "execution_count": 3,
   "id": "c65f9432-60af-45d7-9ca6-5e889c8524f1",
   "metadata": {},
   "outputs": [],
   "source": [
    "ee.Initialize()"
   ]
  },
  {
   "cell_type": "code",
   "execution_count": 6,
   "id": "6cbc23f2-e110-41be-bd12-b38fb3588261",
   "metadata": {},
   "outputs": [
    {
     "data": {
      "application/vnd.jupyter.widget-view+json": {
       "model_id": "532ce7504d3241cfbf624d9d0a220f60",
       "version_major": 2,
       "version_minor": 0
      },
      "text/plain": [
       "Map(center=[13, 77], controls=(WidgetControl(options=['position', 'transparent_bg'], widget=HBox(children=(Tog…"
      ]
     },
     "metadata": {},
     "output_type": "display_data"
    }
   ],
   "source": [
    "\n",
    "s2 = ee.ImageCollection('COPERNICUS/S2_SR') \\\n",
    "  .filter(ee.Filter.lt('CLOUDY_PIXEL_PERCENTAGE', 0.25))\n",
    "\n",
    "s2_arr = \n",
    "pt = ee.Geometry.Point([77, 13])\n",
    "\n",
    "Map = geemap.Map()\n",
    "Map.centerObject(pt, 16)\n",
    "Map.addLayer(s2.mosaic(), {'bands' : ['B8','B4','B3'], 'min' : 0, 'max' : 3000}, 's2')\n",
    "Map.addLayer(pt, {}, 'pt')\n",
    "Map.addLayerControl()\n",
    "Map\n"
   ]
  },
  {
   "cell_type": "code",
   "execution_count": 18,
   "id": "5f64f224-60fa-49cd-a4fb-241d5adde50f",
   "metadata": {},
   "outputs": [],
   "source": [
    "\n",
    "px_around_pt = 10\n",
    "imdim = (px_around_pt * 2) + 1\n",
    "kernel_list = ee.List.repeat(1, imdim)\n",
    "kernel_lists = ee.List.repeat(kernel_list, imdim)\n",
    "kernel = ee.Kernel.fixed(imdim, imdim, kernel_lists, \n",
    "                         x = px_around_pt + 1, y = px_around_pt + 1)\n",
    "# kernel.getInfo()\n",
    "s2im = s2.mosaic().select(['B8','B4','B3'])\n",
    "s2ar_ee = s2im.neighborhoodToArray(kernel)\n",
    "s2ar = s2ar_ee.reduceRegion(ee.Reducer.first(), geometry = pt, scale = 10).getInfo()"
   ]
  },
  {
   "cell_type": "code",
   "execution_count": 40,
   "id": "b61e6cf9-1ae5-4c05-822e-200f9720f90f",
   "metadata": {
    "tags": []
   },
   "outputs": [],
   "source": [
    "import numpy as np\n",
    "import matplotlib.pyplot as plt\n",
    "B3 = np.expand_dims(np.array(s2ar['B3']), 2)\n",
    "B4 = np.expand_dims(np.array(s2ar['B4']), 2)\n",
    "B8 = np.expand_dims(np.array(s2ar['B8']), 2)\n",
    "\n",
    "maxval = 3000\n",
    "im_array = np.concatenate((B8, B4, B3), axis = 2)\n",
    "im_array[im_array > maxval] = maxval\n",
    "\n",
    "\n",
    "rgb_img_test = (255*((im_array - 0)/maxval)).astype('uint8')"
   ]
  },
  {
   "cell_type": "code",
   "execution_count": 46,
   "id": "14240d77-b805-42bc-b73a-63bd6a08fdd5",
   "metadata": {},
   "outputs": [
    {
     "data": {
      "text/plain": [
       "[<matplotlib.lines.Line2D at 0x15f6c09d0>]"
      ]
     },
     "execution_count": 46,
     "metadata": {},
     "output_type": "execute_result"
    },
    {
     "data": {
      "image/png": "[encoded data removed]",
      "text/plain": [
       "<Figure size 432x288 with 1 Axes>"
      ]
     },
     "metadata": {
      "needs_background": "light"
     },
     "output_type": "display_data"
    }
   ],
   "source": [
    "plt.imshow(rgb_img_test)\n",
    "plt.plot(10, 10, marker = 'o', color = 'black')"
   ]
  }
 ],
 "metadata": {
  "kernelspec": {
   "display_name": "geemap",
   "language": "python",
   "name": "geemap"
  },
  "language_info": {
   "codemirror_mode": {
    "name": "ipython",
    "version": 3
   },
   "file_extension": ".py",
   "mimetype": "text/x-python",
   "name": "python",
   "nbconvert_exporter": "python",
   "pygments_lexer": "ipython3",
   "version": "3.9.13"
  }
 },
 "nbformat": 4,
 "nbformat_minor": 5
}
