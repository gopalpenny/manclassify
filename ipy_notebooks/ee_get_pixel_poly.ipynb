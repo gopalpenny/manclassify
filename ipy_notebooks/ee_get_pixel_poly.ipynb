{
 "cells": [
  {
   "cell_type": "code",
   "execution_count": 128,
   "id": "851e0317-4e5d-44f6-94e0-0333cbf294b7",
   "metadata": {},
   "outputs": [],
   "source": [
    "import ee\n",
    "import geemap\n",
    "import os\n",
    "from datetime import datetime, timedelta\n",
    "import numpy as np\n",
    "import geopandas as gpd\n",
    "import pandas as pd\n",
    "import math\n",
    "import matplotlib.pyplot as plt\n",
    "import geemap\n",
    "import plotnine as p9"
   ]
  },
  {
   "cell_type": "code",
   "execution_count": 108,
   "id": "40129355-d40a-4430-a6c6-e0e2e711cb8b",
   "metadata": {},
   "outputs": [],
   "source": [
    "ee.Initialize()"
   ]
  },
  {
   "cell_type": "code",
   "execution_count": 323,
   "id": "b5e14343-4e3e-44de-a428-80d06e5e47b2",
   "metadata": {},
   "outputs": [],
   "source": [
    "def get_ee_pixel_poly(coords_xy, ic_str, band_name, buffer_m = 0, vector_type = 'ee'):\n",
    "\n",
    "    pt = ee.Geometry.Point(coords_xy)\n",
    "    \n",
    "    ic = ee.ImageCollection(ic_str)\n",
    "    ic_im = ic.filterBounds(pt).first().select(band_name)\n",
    "    # oli8_px_int = oli8_px.select('SR_B5').gt(25000).rename('test')\n",
    "    px_poly = ic_im.reduceToVectors(\n",
    "        geometry = pt.buffer(buffer_m),\n",
    "        scale = ic_im.projection().nominalScale())\n",
    "    \n",
    "    if vector_type == 'ee':\n",
    "        # do nothing -- good to go\n",
    "        pass\n",
    "    elif vector_type == 'gpd':\n",
    "        px_poly = geemap.ee_to_geopandas(px_poly).set_crs(epsg=4326)\n",
    "    else:\n",
    "        raise Exception(\"vector_type must be ee_fc or gpd\")\n",
    "        \n",
    "    return px_poly"
   ]
  },
  {
   "cell_type": "code",
   "execution_count": 140,
   "id": "f565a696-a3c6-4ddc-9e8c-595f1d0ccecc",
   "metadata": {},
   "outputs": [],
   "source": [
    "ic_str = \"LANDSAT/LC08/C02/T1_L2\"\n",
    "coords_xy = [104.9995, 20.0005]\n",
    "landsat_grid_poly = get_ee_pixel_poly(coords_xy, ic_str, 'SR_B5', buffer_m = 60, vector_type = 'gpd')\n",
    "s2_grid_poly = get_ee_pixel_poly(coords_xy, 'COPERNICUS/S2', 'B4', buffer_m = 60, vector_type = 'gpd')\n",
    "# s2_harm_px = get_ee_pixel_poly(coords_xy, 'COPERNICUS/S2_HARMONIZED', 'B4', buffer_m = 60, vector_type = 'gpd')"
   ]
  },
  {
   "cell_type": "code",
   "execution_count": 299,
   "id": "9a208e0d-23c3-4b2f-8870-607e7cd81a44",
   "metadata": {},
   "outputs": [],
   "source": [
    "pt_xy = gpd.points_from_xy([coords_xy[0]], [coords_xy[1]], crs = 'epsg:4326')\n",
    "pt_xy_gpd = gpd.GeoSeries(pt_xy)\n",
    "\n",
    "# lpx_poly = landsat_grid_poly[5:6]\n",
    "\n",
    "# get only the pixel polygons containing the point\n",
    "landsat_px_poly = [landsat_grid_poly.loc[i:i] for i in landsat_grid_poly.index if pt_xy_gpd.within(landsat_grid_poly.loc[i,'geometry'])[0]][0]\n",
    "s2_px_poly = [s2_grid_poly.loc[i:i] for i in s2_grid_poly.index if pt_xy_gpd.within(s2_grid_poly.loc[i,'geometry'])[0]][0]\n",
    "# gpd.GeoSeries(pt_xy).within(landsat_grid_poly)\n",
    "# pt_xy_gpd.within(landsat_grid_poly.loc[5,'geometry'])[0]"
   ]
  },
  {
   "cell_type": "code",
   "execution_count": 190,
   "id": "5e0619d2-0dff-46f8-a81b-74ff84fab34d",
   "metadata": {},
   "outputs": [
    {
     "data": {
      "image/png": "[encoded data removed]",
      "text/plain": [
       "<Figure size 640x480 with 1 Axes>"
      ]
     },
     "metadata": {},
     "output_type": "display_data"
    },
    {
     "data": {
      "text/plain": [
       "<ggplot: (673887964)>"
      ]
     },
     "execution_count": 190,
     "metadata": {},
     "output_type": "execute_result"
    }
   ],
   "source": [
    "(p9.ggplot() + \n",
    "  p9.geom_map(data = landsat_grid_poly.iloc[5:6], color = 'blue', fill = None) + \n",
    "  p9.geom_map(data = s2_grid_poly, color = 'red', fill = None) +\n",
    "  p9.geom_map(data = gpd.GeoDataFrame(geometry=gpd.GeoSeries(pt_xy)), color = 'red', fill = None))# +\n",
    "  # p9.annotate(geom = 'point', x = coords_xy[0],y = coords_xy[1]))\n",
    "# landsat_pt.intersects("
   ]
  },
  {
   "cell_type": "code",
   "execution_count": 301,
   "id": "19950fdd-1644-4a71-b3b7-3f53c357b2e9",
   "metadata": {},
   "outputs": [
    {
     "data": {
      "text/plain": [
       "<folium.features.GeoJson at 0x282abcc10>"
      ]
     },
     "execution_count": 301,
     "metadata": {},
     "output_type": "execute_result"
    }
   ],
   "source": [
    "import folium\n",
    "loc_pt_latlon = coords\n",
    "m_folium = folium.Map(location = [20.0005, 104.9995], zoom_start = 18)\n",
    "tile = folium.TileLayer(\n",
    "        tiles = 'https://server.arcgisonline.com/ArcGIS/rest/services/World_Imagery/MapServer/tile/{z}/{y}/{x}',\n",
    "        attr = 'Esri',\n",
    "        name = 'Esri Satellite',\n",
    "        overlay = False,\n",
    "        control = True\n",
    "        ).add_to(m_folium)\n",
    "\n",
    "def style(color = 'blue'):\n",
    "    def dummy_func(feature):\n",
    "        return {\n",
    "            'fill': False,\n",
    "            'color': color,\n",
    "            'weight': 1\n",
    "        }\n",
    "    return(dummy_func)\n",
    "    \n",
    "folium.GeoJson(data = landsat_px_poly, \n",
    "               style_function = style('red')).add_to(m_folium)\n",
    "folium.GeoJson(data = s2_px_poly, \n",
    "               style_function = style()).add_to(m_folium)"
   ]
  },
  {
   "cell_type": "code",
   "execution_count": 61,
   "id": "59a1f61e-50d1-4a0d-8b82-efe4495dca14",
   "metadata": {
    "tags": []
   },
   "outputs": [
    {
     "data": {
      "text/plain": [
       "'EPSG:4326'"
      ]
     },
     "execution_count": 61,
     "metadata": {},
     "output_type": "execute_result"
    }
   ],
   "source": [
    "# s2_harm_px.crs\n",
    "s2_px.first().geometry().projection().crs().getInfo()"
   ]
  },
  {
   "cell_type": "code",
   "execution_count": 41,
   "id": "f89c8940-ecbc-4d5b-9cd6-622d39f73d5a",
   "metadata": {},
   "outputs": [
    {
     "data": {
      "text/plain": [
       "geopandas.geodataframe.GeoDataFrame"
      ]
     },
     "execution_count": 41,
     "metadata": {},
     "output_type": "execute_result"
    }
   ],
   "source": [
    "type(geemap.ee_to_geopandas(s2_harm_px))"
   ]
  },
  {
   "cell_type": "code",
   "execution_count": 4,
   "id": "863a42a2-6f8e-4ba8-8dd6-a1d96114d199",
   "metadata": {
    "tags": []
   },
   "outputs": [],
   "source": [
    "# oli8 = ee.ImageCollection(\"LANDSAT/LC08/C02/T1_L2\")\n",
    "# reducervector = pt.buffer(100)\n",
    "# oli8_px = oli8.filterBounds(pt).first().clip(reducervector)\n",
    "# oli8_px_int = oli8_px.select('SR_B5').gt(25000).rename('test')\n",
    "# oli8_shp = oli8_px_int.reduceToVectors(\n",
    "#     geometry = pt,\n",
    "#     scale = 30)\n"
   ]
  },
  {
   "cell_type": "code",
   "execution_count": 324,
   "id": "0f538961-8016-44ca-b037-0c5b7a1d867f",
   "metadata": {
    "tags": []
   },
   "outputs": [],
   "source": [
    "ee_pt = ee.Geometry.Point(coords_xy)\n",
    "s2 = ee.ImageCollection('COPERNICUS/S2')\n",
    "# s2.first().select('B4').projection().nominalScale().divide(10).getInfo()\n",
    "s2_im = s2.filterBounds(pt).first()\n",
    "\n",
    "s2_ee_poly = get_ee_pixel_poly(coords_xy, 'COPERNICUS/S2', 'B4', buffer_m = 60, vector_type = 'ee')\n"
   ]
  },
  {
   "cell_type": "code",
   "execution_count": 322,
   "id": "c8750ba4-16d6-4cfc-be7d-a519dd95c0ce",
   "metadata": {},
   "outputs": [
    {
     "data": {
      "text/plain": [
       "1"
      ]
     },
     "execution_count": 322,
     "metadata": {},
     "output_type": "execute_result"
    }
   ],
   "source": [
    "s2.first().select('B4').projection().nominalScale().divide(10).getInfo()\n"
   ]
  },
  {
   "cell_type": "code",
   "execution_count": 307,
   "id": "36d20f0a-6b00-4f46-8246-0047c50f3b72",
   "metadata": {},
   "outputs": [
    {
     "data": {
      "text/plain": [
       "<ee.image.Image at 0x282bcbd90>"
      ]
     },
     "execution_count": 307,
     "metadata": {},
     "output_type": "execute_result"
    }
   ],
   "source": [
    "s2_im"
   ]
  },
  {
   "cell_type": "code",
   "execution_count": 7,
   "id": "e4903df8-1351-4aae-adb7-1c6c0895f2c1",
   "metadata": {
    "tags": []
   },
   "outputs": [],
   "source": [
    "Map = geemap.Map()"
   ]
  },
  {
   "cell_type": "code",
   "execution_count": 325,
   "id": "96472364-8bc1-4314-a09c-a29fbbbb8230",
   "metadata": {
    "tags": []
   },
   "outputs": [],
   "source": [
    "# Map.addLayer(oli8_px_int,{'bands':['test']},'oli8_px_shp')\n",
    "Map.addLayer(s2_im,{'bands':['B8','B4','B3'],'min':4000, 'max':5000},'s2_im')\n",
    "\n",
    "# Map.addLayer(pt,{'color': 'red'},'pt')\n",
    "# Map.addLayer(landsat_pt,{'color': 'blue'},'landsat_pt')\n",
    "Map.addLayer(ee.Image().paint(s2_ee_poly,1,1),{'palette': 'blue'},'s2_px')\n",
    "# Map.addLayer(s2_harm_px,{'color?': 'green'},'s2_harm_px')\n",
    "Map.centerObject(pt, 18)\n",
    "Map.addLayerControl()"
   ]
  },
  {
   "cell_type": "code",
   "execution_count": 9,
   "id": "e567dc36-44fd-4e28-960e-0c8825f3d6e9",
   "metadata": {},
   "outputs": [
    {
     "data": {
      "application/vnd.jupyter.widget-view+json": {
       "model_id": "35d8c058344b42eeb2e16b302f06d8ca",
       "version_major": 2,
       "version_minor": 0
      },
      "text/plain": [
       "Map(center=[20.0005, 104.9995], controls=(WidgetControl(options=['position', 'transparent_bg'], widget=HBox(ch…"
      ]
     },
     "metadata": {},
     "output_type": "display_data"
    }
   ],
   "source": [
    "Map"
   ]
  },
  {
   "cell_type": "code",
   "execution_count": 302,
   "id": "42960827-556e-41fa-a71c-a173f26646df",
   "metadata": {},
   "outputs": [
    {
     "data": {
      "text/html": [
       "<div style=\"width:100%;\"><div style=\"position:relative;width:100%;height:0;padding-bottom:60%;\"><span style=\"color:#565656\">Make this Notebook Trusted to load map: File -> Trust Notebook</span><iframe srcdoc=\"&lt;!DOCTYPE html&gt;\n",
       "&lt;head&gt;    \n",
       "    &lt;meta http-equiv=&quot;content-type&quot; content=&quot;text/html; charset=UTF-8&quot; /&gt;\n",
       "    \n",
       "        &lt;script&gt;\n",
       "            L_NO_TOUCH = false;\n",
       "            L_DISABLE_3D = false;\n",
       "        &lt;/script&gt;\n",
       "    \n",
       "    &lt;style&gt;html, body {width: 100%;height: 100%;margin: 0;padding: 0;}&lt;/style&gt;\n",
       "    &lt;style&gt;#map {position:absolute;top:0;bottom:0;right:0;left:0;}&lt;/style&gt;\n",
       "    &lt;script src=&quot;https://cdn.jsdelivr.net/npm/leaflet@1.6.0/dist/leaflet.js&quot;&gt;&lt;/script&gt;\n",
       "    &lt;script src=&quot;https://code.jquery.com/jquery-1.12.4.min.js&quot;&gt;&lt;/script&gt;\n",
       "    &lt;script src=&quot;https://maxcdn.bootstrapcdn.com/bootstrap/3.2.0/js/bootstrap.min.js&quot;&gt;&lt;/script&gt;\n",
       "    &lt;script src=&quot;https://cdnjs.cloudflare.com/ajax/libs/Leaflet.awesome-markers/2.0.2/leaflet.awesome-markers.js&quot;&gt;&lt;/script&gt;\n",
       "    &lt;link rel=&quot;stylesheet&quot; href=&quot;https://cdn.jsdelivr.net/npm/leaflet@1.6.0/dist/leaflet.css&quot;/&gt;\n",
       "    &lt;link rel=&quot;stylesheet&quot; href=&quot;https://maxcdn.bootstrapcdn.com/bootstrap/3.2.0/css/bootstrap.min.css&quot;/&gt;\n",
       "    &lt;link rel=&quot;stylesheet&quot; href=&quot;https://maxcdn.bootstrapcdn.com/bootstrap/3.2.0/css/bootstrap-theme.min.css&quot;/&gt;\n",
       "    &lt;link rel=&quot;stylesheet&quot; href=&quot;https://maxcdn.bootstrapcdn.com/font-awesome/4.6.3/css/font-awesome.min.css&quot;/&gt;\n",
       "    &lt;link rel=&quot;stylesheet&quot; href=&quot;https://cdnjs.cloudflare.com/ajax/libs/Leaflet.awesome-markers/2.0.2/leaflet.awesome-markers.css&quot;/&gt;\n",
       "    &lt;link rel=&quot;stylesheet&quot; href=&quot;https://cdn.jsdelivr.net/gh/python-visualization/folium/folium/templates/leaflet.awesome.rotate.min.css&quot;/&gt;\n",
       "    \n",
       "            &lt;meta name=&quot;viewport&quot; content=&quot;width=device-width,\n",
       "                initial-scale=1.0, maximum-scale=1.0, user-scalable=no&quot; /&gt;\n",
       "            &lt;style&gt;\n",
       "                #map_b38071f2b37b46f96ca7a6da145df18b {\n",
       "                    position: relative;\n",
       "                    width: 100.0%;\n",
       "                    height: 100.0%;\n",
       "                    left: 0.0%;\n",
       "                    top: 0.0%;\n",
       "                }\n",
       "            &lt;/style&gt;\n",
       "        \n",
       "&lt;/head&gt;\n",
       "&lt;body&gt;    \n",
       "    \n",
       "            &lt;div class=&quot;folium-map&quot; id=&quot;map_b38071f2b37b46f96ca7a6da145df18b&quot; &gt;&lt;/div&gt;\n",
       "        \n",
       "&lt;/body&gt;\n",
       "&lt;script&gt;    \n",
       "    \n",
       "            var map_b38071f2b37b46f96ca7a6da145df18b = L.map(\n",
       "                &quot;map_b38071f2b37b46f96ca7a6da145df18b&quot;,\n",
       "                {\n",
       "                    center: [20.0005, 104.9995],\n",
       "                    crs: L.CRS.EPSG3857,\n",
       "                    zoom: 18,\n",
       "                    zoomControl: true,\n",
       "                    preferCanvas: false,\n",
       "                }\n",
       "            );\n",
       "\n",
       "            \n",
       "\n",
       "        \n",
       "    \n",
       "            var tile_layer_a5eb4846577fd4edec56701f7851aaa8 = L.tileLayer(\n",
       "                &quot;https://{s}.tile.openstreetmap.org/{z}/{x}/{y}.png&quot;,\n",
       "                {&quot;attribution&quot;: &quot;Data by \\u0026copy; \\u003ca href=\\&quot;http://openstreetmap.org\\&quot;\\u003eOpenStreetMap\\u003c/a\\u003e, under \\u003ca href=\\&quot;http://www.openstreetmap.org/copyright\\&quot;\\u003eODbL\\u003c/a\\u003e.&quot;, &quot;detectRetina&quot;: false, &quot;maxNativeZoom&quot;: 18, &quot;maxZoom&quot;: 18, &quot;minZoom&quot;: 0, &quot;noWrap&quot;: false, &quot;opacity&quot;: 1, &quot;subdomains&quot;: &quot;abc&quot;, &quot;tms&quot;: false}\n",
       "            ).addTo(map_b38071f2b37b46f96ca7a6da145df18b);\n",
       "        \n",
       "    \n",
       "            var tile_layer_c208c30f16ef5dd86caa0488cce057e2 = L.tileLayer(\n",
       "                &quot;https://server.arcgisonline.com/ArcGIS/rest/services/World_Imagery/MapServer/tile/{z}/{y}/{x}&quot;,\n",
       "                {&quot;attribution&quot;: &quot;Esri&quot;, &quot;detectRetina&quot;: false, &quot;maxNativeZoom&quot;: 18, &quot;maxZoom&quot;: 18, &quot;minZoom&quot;: 0, &quot;noWrap&quot;: false, &quot;opacity&quot;: 1, &quot;subdomains&quot;: &quot;abc&quot;, &quot;tms&quot;: false}\n",
       "            ).addTo(map_b38071f2b37b46f96ca7a6da145df18b);\n",
       "        \n",
       "    \n",
       "        function geo_json_e575aaa630916d64dfca7fe1ef58fffb_styler(feature) {\n",
       "            switch(feature.id) {\n",
       "                default:\n",
       "                    return {&quot;color&quot;: &quot;red&quot;, &quot;fill&quot;: false, &quot;weight&quot;: 1};\n",
       "            }\n",
       "        }\n",
       "\n",
       "        function geo_json_e575aaa630916d64dfca7fe1ef58fffb_onEachFeature(feature, layer) {\n",
       "            layer.on({\n",
       "            });\n",
       "        };\n",
       "        var geo_json_e575aaa630916d64dfca7fe1ef58fffb = L.geoJson(null, {\n",
       "                onEachFeature: geo_json_e575aaa630916d64dfca7fe1ef58fffb_onEachFeature,\n",
       "            \n",
       "                style: geo_json_e575aaa630916d64dfca7fe1ef58fffb_styler,\n",
       "        });\n",
       "\n",
       "        function geo_json_e575aaa630916d64dfca7fe1ef58fffb_add (data) {\n",
       "            geo_json_e575aaa630916d64dfca7fe1ef58fffb\n",
       "                .addData(data)\n",
       "                .addTo(map_b38071f2b37b46f96ca7a6da145df18b);\n",
       "        }\n",
       "            geo_json_e575aaa630916d64dfca7fe1ef58fffb_add({&quot;bbox&quot;: [104.9993786135271, 20.000394832875326, 104.99966540785664, 20.00066593428572], &quot;features&quot;: [{&quot;bbox&quot;: [104.9993786135271, 20.000394832875326, 104.99966540785664, 20.00066593428572], &quot;geometry&quot;: {&quot;coordinates&quot;: [[[104.9993786135271, 20.00066593351216], [104.99937861459092, 20.000394832875326], [104.99966540785664, 20.000394833648873], [104.99966540728383, 20.00066593428572], [104.9993786135271, 20.00066593351216]]], &quot;type&quot;: &quot;Polygon&quot;}, &quot;id&quot;: &quot;5&quot;, &quot;properties&quot;: {&quot;count&quot;: 1, &quot;label&quot;: 23370}, &quot;type&quot;: &quot;Feature&quot;}], &quot;type&quot;: &quot;FeatureCollection&quot;});\n",
       "\n",
       "        \n",
       "    \n",
       "        function geo_json_bc5f1d57cd94f25cad2b22691e65b92f_styler(feature) {\n",
       "            switch(feature.id) {\n",
       "                default:\n",
       "                    return {&quot;color&quot;: &quot;blue&quot;, &quot;fill&quot;: false, &quot;weight&quot;: 1};\n",
       "            }\n",
       "        }\n",
       "\n",
       "        function geo_json_bc5f1d57cd94f25cad2b22691e65b92f_onEachFeature(feature, layer) {\n",
       "            layer.on({\n",
       "            });\n",
       "        };\n",
       "        var geo_json_bc5f1d57cd94f25cad2b22691e65b92f = L.geoJson(null, {\n",
       "                onEachFeature: geo_json_bc5f1d57cd94f25cad2b22691e65b92f_onEachFeature,\n",
       "            \n",
       "                style: geo_json_bc5f1d57cd94f25cad2b22691e65b92f_styler,\n",
       "        });\n",
       "\n",
       "        function geo_json_bc5f1d57cd94f25cad2b22691e65b92f_add (data) {\n",
       "            geo_json_bc5f1d57cd94f25cad2b22691e65b92f\n",
       "                .addData(data)\n",
       "                .addTo(map_b38071f2b37b46f96ca7a6da145df18b);\n",
       "        }\n",
       "            geo_json_bc5f1d57cd94f25cad2b22691e65b92f_add({&quot;bbox&quot;: [104.99942641297754, 20.000440016476528, 104.99952201108741, 20.000530383639575], &quot;features&quot;: [{&quot;bbox&quot;: [104.99942641297754, 20.000440016476528, 104.99952201108741, 20.000530383639575], &quot;geometry&quot;: {&quot;coordinates&quot;: [[[104.99942641297754, 20.000530383355937], [104.99942641330487, 20.000440016476528], [104.99952201108741, 20.000440016760166], [104.99952201081463, 20.000530383639575], [104.99942641297754, 20.000530383355937]]], &quot;type&quot;: &quot;Polygon&quot;}, &quot;id&quot;: &quot;91&quot;, &quot;properties&quot;: {&quot;count&quot;: 1, &quot;label&quot;: 3950}, &quot;type&quot;: &quot;Feature&quot;}], &quot;type&quot;: &quot;FeatureCollection&quot;});\n",
       "\n",
       "        \n",
       "&lt;/script&gt;\" style=\"position:absolute;width:100%;height:100%;left:0;top:0;border:none !important;\" allowfullscreen webkitallowfullscreen mozallowfullscreen></iframe></div></div>"
      ],
      "text/plain": [
       "<folium.folium.Map at 0x282c28a60>"
      ]
     },
     "execution_count": 302,
     "metadata": {},
     "output_type": "execute_result"
    }
   ],
   "source": [
    "m_folium"
   ]
  },
  {
   "cell_type": "code",
   "execution_count": 76,
   "id": "ebfc9eef-dbcd-4138-b799-012efad0f64f",
   "metadata": {},
   "outputs": [
    {
     "data": {
      "text/html": [
       "<div>\n",
       "<style scoped>\n",
       "    .dataframe tbody tr th:only-of-type {\n",
       "        vertical-align: middle;\n",
       "    }\n",
       "\n",
       "    .dataframe tbody tr th {\n",
       "        vertical-align: top;\n",
       "    }\n",
       "\n",
       "    .dataframe thead th {\n",
       "        text-align: right;\n",
       "    }\n",
       "</style>\n",
       "<table border=\"1\" class=\"dataframe\">\n",
       "  <thead>\n",
       "    <tr style=\"text-align: right;\">\n",
       "      <th></th>\n",
       "      <th>geometry</th>\n",
       "      <th>count</th>\n",
       "      <th>label</th>\n",
       "    </tr>\n",
       "  </thead>\n",
       "  <tbody>\n",
       "    <tr>\n",
       "      <th>0</th>\n",
       "      <td>POLYGON ((104.99943 20.00053, 104.99943 20.000...</td>\n",
       "      <td>1</td>\n",
       "      <td>3950</td>\n",
       "    </tr>\n",
       "  </tbody>\n",
       "</table>\n",
       "</div>"
      ],
      "text/plain": [
       "                                            geometry  count  label\n",
       "0  POLYGON ((104.99943 20.00053, 104.99943 20.000...      1   3950"
      ]
     },
     "execution_count": 76,
     "metadata": {},
     "output_type": "execute_result"
    }
   ],
   "source": [
    "s2_harm_px = s2_harm_px.set_crs(epsg=4326)\n",
    "s2_harm_px"
   ]
  },
  {
   "cell_type": "code",
   "execution_count": 196,
   "id": "6b597cb2-41f6-464b-add2-6115a5d26760",
   "metadata": {},
   "outputs": [
    {
     "ename": "AttributeError",
     "evalue": "'GeoDataFrame' object has no attribute 'ix'",
     "output_type": "error",
     "traceback": [
      "\u001b[0;31m---------------------------------------------------------------------------\u001b[0m",
      "\u001b[0;31mAttributeError\u001b[0m                            Traceback (most recent call last)",
      "\u001b[0;32m/var/folders/js/4lzq4_rd12ndjrhf15w_jfrw0000gn/T/ipykernel_75969/2238881992.py\u001b[0m in \u001b[0;36m<cell line: 4>\u001b[0;34m()\u001b[0m\n\u001b[1;32m      2\u001b[0m \u001b[0;34m\u001b[0m\u001b[0m\n\u001b[1;32m      3\u001b[0m \u001b[0;31m# landsat_grid_poly.iloc[6:7].intersects(gpd.GeoSeries(pt_xy))\u001b[0m\u001b[0;34m\u001b[0m\u001b[0;34m\u001b[0m\u001b[0m\n\u001b[0;32m----> 4\u001b[0;31m \u001b[0mlandsat_grid_poly\u001b[0m\u001b[0;34m.\u001b[0m\u001b[0mix\u001b[0m\u001b[0;34m[\u001b[0m\u001b[0;36m0\u001b[0m\u001b[0;34m]\u001b[0m\u001b[0;34m\u001b[0m\u001b[0;34m\u001b[0m\u001b[0m\n\u001b[0m",
      "\u001b[0;32m~/mambaforge/envs/manclassify/lib/python3.9/site-packages/pandas/core/generic.py\u001b[0m in \u001b[0;36m__getattr__\u001b[0;34m(self, name)\u001b[0m\n\u001b[1;32m   5573\u001b[0m         ):\n\u001b[1;32m   5574\u001b[0m             \u001b[0;32mreturn\u001b[0m \u001b[0mself\u001b[0m\u001b[0;34m[\u001b[0m\u001b[0mname\u001b[0m\u001b[0;34m]\u001b[0m\u001b[0;34m\u001b[0m\u001b[0;34m\u001b[0m\u001b[0m\n\u001b[0;32m-> 5575\u001b[0;31m         \u001b[0;32mreturn\u001b[0m \u001b[0mobject\u001b[0m\u001b[0;34m.\u001b[0m\u001b[0m__getattribute__\u001b[0m\u001b[0;34m(\u001b[0m\u001b[0mself\u001b[0m\u001b[0;34m,\u001b[0m \u001b[0mname\u001b[0m\u001b[0;34m)\u001b[0m\u001b[0;34m\u001b[0m\u001b[0;34m\u001b[0m\u001b[0m\n\u001b[0m\u001b[1;32m   5576\u001b[0m \u001b[0;34m\u001b[0m\u001b[0m\n\u001b[1;32m   5577\u001b[0m     \u001b[0;32mdef\u001b[0m \u001b[0m__setattr__\u001b[0m\u001b[0;34m(\u001b[0m\u001b[0mself\u001b[0m\u001b[0;34m,\u001b[0m \u001b[0mname\u001b[0m\u001b[0;34m:\u001b[0m \u001b[0mstr\u001b[0m\u001b[0;34m,\u001b[0m \u001b[0mvalue\u001b[0m\u001b[0;34m)\u001b[0m \u001b[0;34m->\u001b[0m \u001b[0;32mNone\u001b[0m\u001b[0;34m:\u001b[0m\u001b[0;34m\u001b[0m\u001b[0;34m\u001b[0m\u001b[0m\n",
      "\u001b[0;31mAttributeError\u001b[0m: 'GeoDataFrame' object has no attribute 'ix'"
     ]
    }
   ],
   "source": [
    "# landsat_grid_poly.iloc[1:2]\n",
    "\n",
    "# landsat_grid_poly.iloc[6:7].intersects(gpd.GeoSeries(pt_xy))\n",
    "landsat_grid_poly.ix[0]"
   ]
  },
  {
   "cell_type": "code",
   "execution_count": 214,
   "id": "1feedb81-f495-4a0d-901c-f5edcc535d6e",
   "metadata": {},
   "outputs": [],
   "source": [
    "import geopandas\n",
    "from shapely.geometry import Polygon, Point\n",
    "\n",
    "p1 = Point(.5,.5)\n",
    "p2 = Point(.5,1)\n",
    "p3 = Point(1,1)\n",
    "\n",
    "points = GeoSeries([p1,p2,p3])\n",
    "\n",
    "poly = GeoSeries([Polygon([(0,0), (0,2), (2,2), (2,0)])])\n",
    "\n",
    "# geopandas.overlay(points, poly, how='intersection')"
   ]
  },
  {
   "cell_type": "code",
   "execution_count": 203,
   "id": "27a8149b-de3f-43b5-b679-f49b8dffe28c",
   "metadata": {},
   "outputs": [
    {
     "data": {
      "text/plain": [
       "'0.11.1'"
      ]
     },
     "execution_count": 203,
     "metadata": {},
     "output_type": "execute_result"
    }
   ],
   "source": [
    "gpd.__version__"
   ]
  },
  {
   "cell_type": "code",
   "execution_count": 215,
   "id": "3cd9ef8d-9fd7-426c-88ba-29af84213515",
   "metadata": {},
   "outputs": [
    {
     "data": {
      "text/plain": [
       "0     True\n",
       "1    False\n",
       "2    False\n",
       "dtype: bool"
      ]
     },
     "execution_count": 215,
     "metadata": {},
     "output_type": "execute_result"
    }
   ],
   "source": [
    "g1 = gpd.GeoSeries([p1,p2,p3])\n",
    "g2 = gpd.GeoSeries([p2,p3])\n",
    "\n",
    "g = gpd.GeoSeries([Polygon([(0,0), (0,2), (2,2), (2,0)])])\n",
    "\n",
    "g1.intersects(g) # Flags the first point as inside, even though all are.\n",
    "# g2.intersects(g) # The second point gets picked up as inside (but not 3rd)"
   ]
  },
  {
   "cell_type": "code",
   "execution_count": 298,
   "id": "9665fb1f-d81c-4226-a890-fbfd1a5c2dc9",
   "metadata": {},
   "outputs": [
    {
     "data": {
      "text/plain": [
       "<Geographic 2D CRS: EPSG:4326>\n",
       "Name: WGS 84\n",
       "Axis Info [ellipsoidal]:\n",
       "- Lat[north]: Geodetic latitude (degree)\n",
       "- Lon[east]: Geodetic longitude (degree)\n",
       "Area of Use:\n",
       "- name: World.\n",
       "- bounds: (-180.0, -90.0, 180.0, 90.0)\n",
       "Datum: World Geodetic System 1984 ensemble\n",
       "- Ellipsoid: WGS 84\n",
       "- Prime Meridian: Greenwich"
      ]
     },
     "execution_count": 298,
     "metadata": {},
     "output_type": "execute_result"
    }
   ],
   "source": [
    "landsat_px_poly[0].crs"
   ]
  }
 ],
 "metadata": {
  "kernelspec": {
   "display_name": "manclassify",
   "language": "python",
   "name": "manclassify"
  },
  "language_info": {
   "codemirror_mode": {
    "name": "ipython",
    "version": 3
   },
   "file_extension": ".py",
   "mimetype": "text/x-python",
   "name": "python",
   "nbconvert_exporter": "python",
   "pygments_lexer": "ipython3",
   "version": "3.9.13"
  }
 },
 "nbformat": 4,
 "nbformat_minor": 5
}
