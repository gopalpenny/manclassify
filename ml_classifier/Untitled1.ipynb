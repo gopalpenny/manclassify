{
 "cells": [
  {
   "cell_type": "code",
   "execution_count": 48,
   "id": "9018e966-3c96-4986-9707-96b512e7a6f1",
   "metadata": {},
   "outputs": [
    {
     "name": "stdout",
     "output_type": "stream",
     "text": [
      "tensor([1])\n",
      "tensor([[-1.2050,  1.0445, -0.6332]], grad_fn=<EmbeddingBackward0>)\n"
     ]
    }
   ],
   "source": [
    "import torch\n",
    "import torch.nn as nn\n",
    "import torch.nn.functional as Fun\n",
    "import torch.optim as opt\n",
    "torch.manual_seed(2)\n",
    "word_conversion = {\"hey\": 0, \"there\": 1}\n",
    "embeddings = nn.Embedding(2, 3)\n",
    "lookup = torch.tensor([word_conversion[\"there\"]], dtype=torch.long)\n",
    "print(lookup)\n",
    "hey_embeddings = embeddings(lookup)\n",
    "print(hey_embeddings)"
   ]
  },
  {
   "cell_type": "code",
   "execution_count": 51,
   "id": "0591941e-6787-42b4-8bdf-01bd1bcd1ef6",
   "metadata": {},
   "outputs": [],
   "source": [
    "a = embeddings(torch.tensor([1,1]))"
   ]
  },
  {
   "cell_type": "code",
   "execution_count": 59,
   "id": "4b9764c8-b1e5-4751-9833-1d12ca89a9a9",
   "metadata": {},
   "outputs": [
    {
     "data": {
      "text/plain": [
       "tensor([[0.3217, 0.8403]], requires_grad=True)"
      ]
     },
     "execution_count": 59,
     "metadata": {},
     "output_type": "execute_result"
    }
   ],
   "source": [
    "torch.rand((1,2), requires_grad = True)"
   ]
  },
  {
   "cell_type": "code",
   "execution_count": 50,
   "id": "5c933fcf-018e-4580-bea2-c03fcf243f3b",
   "metadata": {},
   "outputs": [],
   "source": [
    "n, d, m = 2, 4, 6\n",
    "embeddings = nn.Embedding(n, d, max_norm=True)\n",
    "Weight = torch.randn((m, d), requires_grad=True)\n",
    "index = torch.tensor([0, 1])\n",
    "x = embeddings.weight.clone() @ Weight.t()\n",
    "y = embeddings(index) @ Weight.t()\n",
    "# ouputt = (x.unsqueeze(1) + y.unsqueeze(2))\n",
    "# loss_factor = output.sigmoid().prod()\n",
    "# loss_factor.backward()\n",
    "# class NewModel(nn.Module):\n",
    "#     def __init__(self, embed_size, embed_dimension):\n",
    "#         super(NewModel, self).__init__()\n",
    "#         self.embed_size = embed_size\n",
    "#         self.embed_dimension = embed_dimension\n",
    "#         self.u_embeddings = nn.Embedding(embed_size, embed_dimension, sparse=True)\n",
    "#         self.v_embeddings = nn.Embedding(embed_size, embed_dimension, sparse = True)\n",
    "#         self.init_embed()\n",
    "#     def init_embed(self):\n",
    "#         initrange = 0.75 / self.embed_dimension\n",
    "#         self.u_embeddings.weight.data.uniform_(-initrange, initrange)\n",
    "#         self.v_embeddings.weight.data.uniform_(-0, 0)\n",
    "#     def forward(self, pos_u, pos_v, neg_v):\n",
    "#         embed_u = self.u_embeddings(pos_u)\n",
    "#         embed_v = self.v_embeddings(pos_v)\n",
    "#         score = torch.mul(embed_u, embed_v).squeeze()\n",
    "#         score = torch.sum(score, dim = 1)\n",
    "#         score = F.logsigmoid(score)\n",
    "#         neg_embed_v = self.v_embeddings(neg_v)\n",
    "#         negtv_score = torch.bmm(neg_embed_v, embed_u.unsqueeze(2)).squeeze()\n",
    "#         negtv_score = F.logsigmoid(-1 * negtv_score)\n",
    "#         return -1 * (torch.sum(score)+torch.sum(negtv_score))"
   ]
  }
 ],
 "metadata": {
  "kernelspec": {
   "display_name": "dlnightly",
   "language": "python",
   "name": "dlnightly"
  },
  "language_info": {
   "codemirror_mode": {
    "name": "ipython",
    "version": 3
   },
   "file_extension": ".py",
   "mimetype": "text/x-python",
   "name": "python",
   "nbconvert_exporter": "python",
   "pygments_lexer": "ipython3",
   "version": "3.9.13"
  }
 },
 "nbformat": 4,
 "nbformat_minor": 5
}
