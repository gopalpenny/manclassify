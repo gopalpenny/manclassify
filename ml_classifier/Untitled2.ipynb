{
 "cells": [
  {
   "cell_type": "code",
   "execution_count": null,
   "id": "e64f65ad-c937-4a87-bedf-89c39f7e8d99",
   "metadata": {},
   "outputs": [],
   "source": [
    "# timeseries transformer\n",
    "\n",
    "\n",
    "# prep dataset / dataloader\n",
    "\n",
    "# linear layer:\n",
    "# transformer:\n",
    "# positional encoding\n",
    "# encoder / decoder\n"
   ]
  }
 ],
 "metadata": {
  "kernelspec": {
   "display_name": "dlnightly",
   "language": "python",
   "name": "dlnightly"
  },
  "language_info": {
   "codemirror_mode": {
    "name": "ipython",
    "version": 3
   },
   "file_extension": ".py",
   "mimetype": "text/x-python",
   "name": "python",
   "nbconvert_exporter": "python",
   "pygments_lexer": "ipython3",
   "version": "3.9.13"
  }
 },
 "nbformat": 4,
 "nbformat_minor": 5
}
