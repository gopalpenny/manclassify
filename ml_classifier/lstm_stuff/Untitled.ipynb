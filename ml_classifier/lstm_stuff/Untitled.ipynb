{
 "cells": [
  {
   "cell_type": "code",
   "execution_count": null,
   "id": "28e717ff-adc8-46d1-96c4-7aa4becbd555",
   "metadata": {},
   "outputs": [],
   "source": [
    "# https://github.com/CarlosJose126/RNNs/blob/main/LSTMCellvsLSTM.ipynb\n",
    "\n"
   ]
  },
  {
   "cell_type": "code",
   "execution_count": 20,
   "id": "251acf66-b269-4039-bdb2-3b85b0896dbf",
   "metadata": {},
   "outputs": [
    {
     "name": "stdout",
     "output_type": "stream",
     "text": [
      " step 0 , Input : torch.Size([2, 10])\n",
      " step 0 , hidden state : torch.Size([2, 20])\n",
      " step 0 , cell state : torch.Size([2, 20])\n",
      " step 1 , Input : torch.Size([2, 10])\n",
      " step 1 , hidden state : torch.Size([2, 20])\n",
      " step 1 , cell state : torch.Size([2, 20])\n",
      " step 2 , Input : torch.Size([2, 10])\n",
      " step 2 , hidden state : torch.Size([2, 20])\n",
      " step 2 , cell state : torch.Size([2, 20])\n",
      " \n",
      " Output LSTMCell: torch.Size([3, 2, 20])\n",
      " \n",
      " Output LSTMCell:\n",
      " tensor([[[-0.2402,  0.1243, -0.1223, -0.1068, -0.0594, -0.2748,  0.1309,\n",
      "          -0.0114,  0.1007,  0.0295, -0.4668,  0.1827,  0.1940,  0.1256,\n",
      "          -0.0053, -0.1219, -0.0469,  0.2409, -0.3866,  0.3882],\n",
      "         [ 0.1322, -0.2442, -0.3373,  0.0912, -0.0058, -0.0140,  0.0632,\n",
      "          -0.6546,  0.1676, -0.0884,  0.1376, -0.3637, -0.3392, -0.2332,\n",
      "           0.1683, -0.5597,  0.0837, -0.5204, -0.2552,  0.0240]],\n",
      "\n",
      "        [[-0.1434,  0.0561, -0.1428, -0.1283,  0.0073, -0.2584,  0.0777,\n",
      "          -0.0640,  0.0818, -0.1076, -0.2870, -0.0549,  0.0827, -0.0212,\n",
      "          -0.1374,  0.0018, -0.1432,  0.0053, -0.1133,  0.1208],\n",
      "         [ 0.1498, -0.2898, -0.2277, -0.1358, -0.0079, -0.1148,  0.0848,\n",
      "          -0.1476,  0.0843, -0.0576,  0.1333, -0.1380, -0.2383, -0.3393,\n",
      "           0.0718, -0.0562,  0.0298, -0.2373, -0.2302, -0.0011]],\n",
      "\n",
      "        [[-0.2131,  0.1130, -0.0990, -0.0545,  0.0624, -0.1464, -0.0084,\n",
      "          -0.0454, -0.0401,  0.1390, -0.1789, -0.1915, -0.0177,  0.0933,\n",
      "          -0.1513,  0.0602, -0.0331, -0.0773, -0.1578,  0.0151],\n",
      "         [-0.0050, -0.2234, -0.2216, -0.0113,  0.0916, -0.0273,  0.1357,\n",
      "          -0.0951,  0.0692, -0.1030,  0.0941, -0.1130, -0.0274, -0.1548,\n",
      "           0.0180, -0.1574,  0.0480, -0.3468, -0.1292,  0.0502]]],\n",
      "       grad_fn=<StackBackward0>)\n"
     ]
    }
   ],
   "source": [
    "import torch.nn as nn\n",
    "import torch\n",
    "\n",
    "torch.manual_seed(12)\n",
    "\n",
    "n_obs = 2\n",
    "n_samp = 3\n",
    "# features 10, hidden size 20\n",
    "rnn = nn.LSTMCell(10, 20)\n",
    "# (time_steps, batch, input_size)\n",
    "input = torch.randn(n_samp, n_obs, 10)\n",
    "# (batch, hidden_size)\n",
    "hx = torch.randn(n_obs, 20)\n",
    "# (batch, hidden_size)\n",
    "cx = torch.randn(n_obs, 20)\n",
    "# list to save outputs each time step\n",
    "output = []\n",
    "for i in range(input.size()[0]):\n",
    "        print(f\" step {i} , Input : {input[i].shape}\")\n",
    "        print(f\" step {i} , hidden state : {hx.shape}\")\n",
    "        print(f\" step {i} , cell state : {cx.shape}\")\n",
    "\n",
    "        hx, cx = rnn(input[i], (hx, cx))\n",
    "        output.append(hx)       \n",
    "\n",
    "output  = torch.stack(output, dim = 0)\n",
    "\n",
    "print(f\" \\n Output LSTMCell: {output.shape}\")\n",
    "print(f\" \\n Output LSTMCell:\\n {output}\")"
   ]
  },
  {
   "cell_type": "code",
   "execution_count": null,
   "id": "64ca7bb9-2edc-47ff-bbfc-b5edca26ad9e",
   "metadata": {},
   "outputs": [],
   "source": []
  },
  {
   "cell_type": "code",
   "execution_count": 21,
   "id": "17833955-61ea-4383-a585-009ea2a27826",
   "metadata": {},
   "outputs": [
    {
     "name": "stdout",
     "output_type": "stream",
     "text": [
      " \n",
      " Output : torch.Size([2, 3, 20])\n",
      " \n",
      " hidden state : torch.Size([1, 3, 20])\n",
      " \n",
      " cell state : torch.Size([1, 3, 20])\n",
      " \n",
      " Output LSTM:\n",
      " tensor([[[ 0.2552, -0.1090, -0.0835,  0.2958, -0.4213, -0.0170,  0.2474,\n",
      "           0.1677, -0.3955, -0.1091,  0.2386, -0.0052,  0.3028,  0.2637,\n",
      "           0.0113, -0.3665, -0.0687, -0.0280, -0.3560,  0.0247],\n",
      "         [-0.0958, -0.0987,  0.3122, -0.1819, -0.0390, -0.3634,  0.1293,\n",
      "           0.2141, -0.5724, -0.1846, -0.3133, -0.1564, -0.0349,  0.2602,\n",
      "           0.3982, -0.3867,  0.3485,  0.0338, -0.2344,  0.0718],\n",
      "         [-0.1596,  0.0429,  0.3663, -0.0377,  0.1968, -0.2228, -0.0025,\n",
      "          -0.0077, -0.1359,  0.0810,  0.1197, -0.0336,  0.0129, -0.1988,\n",
      "          -0.2814,  0.2207, -0.0302, -0.1498, -0.3188, -0.0169]],\n",
      "\n",
      "        [[ 0.1216, -0.0640, -0.1142, -0.1368, -0.2694, -0.1684,  0.1206,\n",
      "           0.1096, -0.2894, -0.0532,  0.1241,  0.0037,  0.0609,  0.0435,\n",
      "          -0.0029,  0.0019, -0.0049, -0.0011, -0.2284, -0.0170],\n",
      "         [-0.1441,  0.0221,  0.1218, -0.1164,  0.0715, -0.1197,  0.0551,\n",
      "           0.0997, -0.3187, -0.0236, -0.1777, -0.2872, -0.1065,  0.4108,\n",
      "           0.1640, -0.2467,  0.3084, -0.0291, -0.2907,  0.0078],\n",
      "         [-0.2493, -0.0424,  0.1005,  0.0169,  0.2249, -0.1074,  0.0999,\n",
      "          -0.0094, -0.1216, -0.0834,  0.0590, -0.0979,  0.0496, -0.1381,\n",
      "          -0.3088, -0.0315,  0.0167, -0.2628, -0.1535,  0.0806]]],\n",
      "       grad_fn=<StackBackward0>)\n"
     ]
    }
   ],
   "source": [
    "torch.manual_seed(12)\n",
    "\n",
    "# (input_size, hidden_size, layers)\n",
    "rnn = nn.LSTM(10, 20, 1)\n",
    "# (seq_len, batch, input_size)\n",
    "input = torch.randn(2, 3, 10)\n",
    "# (num_layers, batch, hidden_size)\n",
    "h0 = torch.randn(1, 3, 20)\n",
    "c0 = torch.randn(1, 3, 20)\n",
    "output, (hn, cn) = rnn(input, (h0, c0))\n",
    "\n",
    "print(f\" \\n Output : {output.shape}\")\n",
    "print(f\" \\n hidden state : {hn.shape}\")\n",
    "print(f\" \\n cell state : {cn.shape}\")\n",
    "print(f\" \\n Output LSTM:\\n {output}\")"
   ]
  }
 ],
 "metadata": {
  "kernelspec": {
   "display_name": "dlnightly",
   "language": "python",
   "name": "dlnightly"
  },
  "language_info": {
   "codemirror_mode": {
    "name": "ipython",
    "version": 3
   },
   "file_extension": ".py",
   "mimetype": "text/x-python",
   "name": "python",
   "nbconvert_exporter": "python",
   "pygments_lexer": "ipython3",
   "version": "3.9.13"
  }
 },
 "nbformat": 4,
 "nbformat_minor": 5
}
